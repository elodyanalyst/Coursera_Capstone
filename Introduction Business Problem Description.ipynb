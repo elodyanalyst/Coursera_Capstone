{
 "cells": [
  {
   "cell_type": "markdown",
   "metadata": {},
   "source": [
    "## 1. Problem Background"
   ]
  },
  {
   "cell_type": "markdown",
   "metadata": {},
   "source": [
    "City neighborhoods are nowadays much more than administrative regions – they live their own life and shape from within based on the people that live in, the venues and places within, the events that take places within. Based on the social, cultural and demographic similarities and dissimilarities, city areas are now much more than just a geographic location. With the development of the mobile technologies, all modern smartphones equipped with GPS allow users to constantly share geographic information on their current whereabouts. This has created an environment for combining social networks with location-based features and has led to a creation of new features in terms of geographic information. Location-based social networks have become a very powerful tool that stores that new information which can unravel new social and population trends."
   ]
  },
  {
   "cell_type": "markdown",
   "metadata": {},
   "source": [
    "## 2. Objectives"
   ]
  },
  {
   "cell_type": "markdown",
   "metadata": {},
   "source": [
    "The objective of the current project is to compare New York City /United States of America/ and Toronto city /Canada/ based on the similarity of their neighborhoods. We will use location-based social networks’ data from the Foursquare API to segment the cities’ neighborhoods and make a comparison between the two cities based on similarities and dissimilarities between the neighborhoods. The new features for neighborhood segmentation, stemming from the location-based social networks, could unravel some important social, behavioral and economic trends within the big cities."
   ]
  },
  {
   "cell_type": "markdown",
   "metadata": {},
   "source": [
    "## 3. General Characteristics on the chosen locations"
   ]
  },
  {
   "cell_type": "markdown",
   "metadata": {},
   "source": [
    "New York and Toronto are one of the biggest, diverse and multicultural cosmopolitan cities worldwide. Both are defined as the most populated cities for their countries, as well as cultural and financial capitals of their respective countries, it would be interesting to understand the similarities of the two cities based on the Foursquare data, that represents the social perception of the city and its places. Both cities share relatively compatible geographic locations /both situated on the North East part of the North America continent/."
   ]
  },
  {
   "cell_type": "markdown",
   "metadata": {},
   "source": [
    "### 3.1 New York"
   ]
  },
  {
   "cell_type": "markdown",
   "metadata": {},
   "source": [
    "New York City, city and port located at the mouth of the Hudson River, southeastern New York state, northeastern U.S. It is the largest and most influential American metropolis, encompassing Manhattan and Staten islands, the western sections of Long Island, and a small portion of the New York state mainland to the north of Manhattan. New York City is in reality a collection of many neighborhoods scattered among the city’s five boroughs—Manhattan, Brooklyn, the Bronx, Queens, and Staten Island—each exhibiting its own lifestyle. Moving from one city neighborhood to the next may be like passing from one country to another. New York is the most populous and the most international city in the country. Area 305 square miles (790 square km). Pop. (2000) 8,008,278. /source/\n"
   ]
  },
  {
   "cell_type": "markdown",
   "metadata": {},
   "source": [
    "### 3.2 Toronto"
   ]
  },
  {
   "cell_type": "markdown",
   "metadata": {},
   "source": [
    "Toronto, city, capital of the province of Ontario, southeastern Canada. It is the most populous city in Canada, a multicultural city, and the country’s financial and commercial centre. Its location on the northwestern shore of Lake Ontario, which forms part of the border between Canada and the United States, and its access to Atlantic shipping via the St. Lawrence Seaway and to major U.S. industrial centres via the Great Lakes have enabled Toronto to become an important international trading centre. Moreover, the city is positioned on the edge of some of the best farmland in Canada, with a climate favourable to growing a wide range of crops, thereby making Toronto a transportation, distribution, and manufacturing centre. Most importantly, its central location, along with a host of political policies favouring international trade, places this city with the greatest economic ties to, and influence from, the United States. Since the second half of the 20th century the city has grown phenomenally, from a rather sedate provincial town—“Toronto the Good”—to a lively, thriving, cosmopolitan metropolitan area. Area 244 square miles (632 square km); metro. area, 2,280 square miles (5,905 square km). Pop. (2011) 2,615,060; metro. area, 5,583,064; (2016) 2,731,571; metro. area, 5,928,040. /source/ The strength and vitality of the many neighborhoods that make up Toronto, Ontario, Canada has earned the city its unofficial nickname of \"the city of neighborhoods. There are 140 neighborhoods officially recognized by the City of Toronto and upwards of 240 official and unofficial neighborhoods within the city's boundaries. /source/"
   ]
  }
 ],
 "metadata": {
  "kernelspec": {
   "display_name": "Python",
   "language": "python",
   "name": "conda-env-python-py"
  },
  "language_info": {
   "codemirror_mode": {
    "name": "ipython",
    "version": 3
   },
   "file_extension": ".py",
   "mimetype": "text/x-python",
   "name": "python",
   "nbconvert_exporter": "python",
   "pygments_lexer": "ipython3",
   "version": "3.6.7"
  }
 },
 "nbformat": 4,
 "nbformat_minor": 4
}
